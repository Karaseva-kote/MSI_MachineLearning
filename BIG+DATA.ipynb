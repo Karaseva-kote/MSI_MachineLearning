{
 "cells": [
  {
   "cell_type": "code",
   "execution_count": 2,
   "metadata": {
    "collapsed": false
   },
   "outputs": [],
   "source": [
    "from sklearn.externals import joblib"
   ]
  },
  {
   "cell_type": "code",
   "execution_count": 3,
   "metadata": {
    "collapsed": true
   },
   "outputs": [],
   "source": [
    "import scipy.io\n",
    "import numpy as np\n",
    "import operator as op"
   ]
  },
  {
   "cell_type": "code",
   "execution_count": 4,
   "metadata": {
    "collapsed": true
   },
   "outputs": [],
   "source": [
    "%matplotlib inline\n",
    "import matplotlib\n",
    "import matplotlib.pyplot as plt # matplotlib\n",
    "matplotlib.rcParams['figure.figsize'] = list(map(lambda x: 2*x, matplotlib.rcParams['figure.figsize']))\n",
    "matplotlib.style.use('ggplot')"
   ]
  },
  {
   "cell_type": "code",
   "execution_count": 5,
   "metadata": {
    "collapsed": false
   },
   "outputs": [],
   "source": [
    "data = joblib.load('/esat/bioidata/guests/wzhang/lymphoma_data_sets.pkl')"
   ]
  },
  {
   "cell_type": "code",
   "execution_count": 6,
   "metadata": {
    "collapsed": false
   },
   "outputs": [
    {
     "data": {
      "text/plain": [
       "dict_keys(['data_matrix', 'data_matrix2', 'mzs', 'labels', 'grid2row', 'row2grid', 'xmin', 'xmax', 'ymin', 'ymax'])"
      ]
     },
     "execution_count": 6,
     "metadata": {},
     "output_type": "execute_result"
    }
   ],
   "source": [
    "data.keys()"
   ]
  },
  {
   "cell_type": "code",
   "execution_count": 7,
   "metadata": {
    "collapsed": false
   },
   "outputs": [],
   "source": [
    "data_matrix1 = data.get('data_matrix')\n",
    "data_matrix2 = data.get('data_matrix2')\n",
    "labels = data.get('labels')\n",
    "mzs = data.get('mzs')\n",
    "grid2row = data.get('gird2row')\n",
    "row2grid = data.get('row2grid')\n",
    "xmin = data.get('xmin')\n",
    "xmax = data.get('xmax')\n",
    "ymax = data.get('ymax')\n",
    "ymin = data.get('ymin')"
   ]
  },
  {
   "cell_type": "code",
   "execution_count": 8,
   "metadata": {
    "collapsed": false
   },
   "outputs": [
    {
     "data": {
      "text/plain": [
       "(520705, 999)"
      ]
     },
     "execution_count": 8,
     "metadata": {},
     "output_type": "execute_result"
    }
   ],
   "source": [
    "data_matrix1.shape"
   ]
  },
  {
   "cell_type": "code",
   "execution_count": 9,
   "metadata": {
    "collapsed": false
   },
   "outputs": [
    {
     "name": "stderr",
     "output_type": "stream",
     "text": [
      "/esat/bioidata/guests/wzhang/wanqiu/conda/lib/python3.6/site-packages/ipykernel/__main__.py:2: RuntimeWarning: divide by zero encountered in log\n",
      "  from ipykernel import kernelapp as app\n"
     ]
    },
    {
     "data": {
      "text/plain": [
       "<Container object of 100 artists>"
      ]
     },
     "execution_count": 9,
     "metadata": {},
     "output_type": "execute_result"
    },
    {
     "data": {
      "image/png": "[encoded data removed]",
      "text/plain": [
       "<matplotlib.figure.Figure at 0x7f0ebafe4f60>"
      ]
     },
     "metadata": {},
     "output_type": "display_data"
    }
   ],
   "source": [
    "e, f = np.histogram(np.transpose(data_matrix1[:]),bins = 100)\n",
    "plt.bar(f[:-1], np.log(e))"
   ]
  },
  {
   "cell_type": "code",
   "execution_count": 10,
   "metadata": {
    "collapsed": false
   },
   "outputs": [
    {
     "data": {
      "text/plain": [
       "(520705, 999)"
      ]
     },
     "execution_count": 10,
     "metadata": {},
     "output_type": "execute_result"
    }
   ],
   "source": [
    "data_matrix2.shape"
   ]
  },
  {
   "cell_type": "code",
   "execution_count": 11,
   "metadata": {
    "collapsed": false
   },
   "outputs": [
    {
     "data": {
      "text/plain": [
       "(520705,)"
      ]
     },
     "execution_count": 11,
     "metadata": {},
     "output_type": "execute_result"
    }
   ],
   "source": [
    "labels.shape"
   ]
  },
  {
   "cell_type": "code",
   "execution_count": 12,
   "metadata": {
    "collapsed": false
   },
   "outputs": [
    {
     "name": "stderr",
     "output_type": "stream",
     "text": [
      "/esat/bioidata/guests/wzhang/wanqiu/conda/lib/python3.6/site-packages/ipykernel/__main__.py:2: RuntimeWarning: divide by zero encountered in log\n",
      "  from ipykernel import kernelapp as app\n"
     ]
    },
    {
     "data": {
      "image/png": "[encoded data removed]",
      "text/plain": [
       "<matplotlib.figure.Figure at 0x7f0cc6bc8080>"
      ]
     },
     "metadata": {},
     "output_type": "display_data"
    }
   ],
   "source": [
    "g, h = np.histogram(np.transpose(data_matrix2[:]),bins = 100)\n",
    "plt.bar(h[:-1], np.log(g), 0.5)\n",
    "plt.show()"
   ]
  },
  {
   "cell_type": "markdown",
   "metadata": {},
   "source": [
    "# Normalization TIC"
   ]
  },
  {
   "cell_type": "code",
   "execution_count": 13,
   "metadata": {
    "collapsed": false
   },
   "outputs": [
    {
     "data": {
      "text/plain": [
       "(520705, 999)"
      ]
     },
     "execution_count": 13,
     "metadata": {},
     "output_type": "execute_result"
    }
   ],
   "source": [
    "#normalisation TIC: calculate the sum of all peaks' intensities in a spectrum as the normalization factor and then all spectrum intensities \n",
    "#are divided by this value\n",
    "data_matrix_1_ = data_matrix1.astype(np.float64)\n",
    "row_sums_1 = data_matrix_1_.sum(axis=1)\n",
    "data_matrix_1 = data_matrix_1_ / row_sums_1[:, np.newaxis]\n",
    "data_matrix_1.shape"
   ]
  },
  {
   "cell_type": "code",
   "execution_count": 14,
   "metadata": {
    "collapsed": false
   },
   "outputs": [
    {
     "data": {
      "text/plain": [
       "(520705, 999)"
      ]
     },
     "execution_count": 14,
     "metadata": {},
     "output_type": "execute_result"
    }
   ],
   "source": [
    "#normalisation TIC: calculate the sum of all peaks' intensities in a spectrum as the normalization factor and then all spectrum intensities \n",
    "#are divided by this value\n",
    "data_matrix_2_ = data_matrix2.astype(np.float64)\n",
    "row_sums_2 = data_matrix_2_.sum(axis=1)\n",
    "data_matrix_2 = data_matrix_2_ / row_sums_2[:, np.newaxis]\n",
    "data_matrix_2.shape"
   ]
  },
  {
   "cell_type": "code",
   "execution_count": null,
   "metadata": {
    "collapsed": false
   },
   "outputs": [
    {
     "name": "stderr",
     "output_type": "stream",
     "text": [
      "/esat/bioidata/guests/wzhang/wanqiu/conda/lib/python3.6/site-packages/ipykernel/__main__.py:4: RuntimeWarning: divide by zero encountered in log\n"
     ]
    },
    {
     "data": {
      "text/plain": [
       "<Container object of 100 artists>"
      ]
     },
     "execution_count": 15,
     "metadata": {},
     "output_type": "execute_result"
    },
    {
     "data": {
      "image/png": "[encoded data removed]",
      "text/plain": [
       "<matplotlib.figure.Figure at 0x7f0cc6bddcf8>"
      ]
     },
     "metadata": {},
     "output_type": "display_data"
    }
   ],
   "source": [
    "a, b = np.histogram(np.transpose(data_matrix_1[:]),bins = 100)\n",
    "#plt.bar(a[:], b[:-1])\n",
    "# By default a bar plot will have a bar width of 0.8. So if your x-axis is from 0 to 0.2, then you will see shit.\n",
    "plt.bar(b[:-1],np.log(a[:]), 0.001)"
   ]
  },
  {
   "cell_type": "code",
   "execution_count": null,
   "metadata": {
    "collapsed": false
   },
   "outputs": [
    {
     "name": "stderr",
     "output_type": "stream",
     "text": [
      "/esat/bioidata/guests/wzhang/wanqiu/conda/lib/python3.6/site-packages/ipykernel/__main__.py:2: RuntimeWarning: divide by zero encountered in log\n",
      "  from ipykernel import kernelapp as app\n"
     ]
    },
    {
     "data": {
      "text/plain": [
       "<Container object of 100 artists>"
      ]
     },
     "execution_count": 16,
     "metadata": {},
     "output_type": "execute_result"
    },
    {
     "data": {
      "image/png": "[encoded data removed]",
      "text/plain": [
       "<matplotlib.figure.Figure at 0x7f0cc67c0b38>"
      ]
     },
     "metadata": {},
     "output_type": "display_data"
    }
   ],
   "source": [
    "c, d = np.histogram(np.transpose(data_matrix_2[:]),bins = 100)\n",
    "plt.bar(d[:-1], np.log(c), 0.001)"
   ]
  },
  {
   "cell_type": "markdown",
   "metadata": {},
   "source": [
    "# Feature Selection"
   ]
  },
  {
   "cell_type": "code",
   "execution_count": null,
   "metadata": {
    "collapsed": true
   },
   "outputs": [],
   "source": [
    "import numpy as np\n",
    "import matplotlib.pyplot as plt\n",
    "from mpl_toolkits.mplot3d import Axes3D\n",
    "from sklearn import decomposition\n",
    "from sklearn import datasets\n",
    "from sklearn.decomposition import PCA as sklearnPCA\n",
    "from sklearn import preprocessing"
   ]
  },
  {
   "cell_type": "code",
   "execution_count": null,
   "metadata": {
    "collapsed": true
   },
   "outputs": [],
   "source": [
    "from sklearn.feature_selection import SelectKBest\n",
    "from sklearn.feature_selection import chi2"
   ]
  },
  {
   "cell_type": "code",
   "execution_count": null,
   "metadata": {
    "collapsed": false
   },
   "outputs": [],
   "source": [
    "real_labels = np.concatenate((labels, labels), axis=0)\n",
    "real_labels.shape"
   ]
  },
  {
   "cell_type": "code",
   "execution_count": null,
   "metadata": {
    "collapsed": false
   },
   "outputs": [],
   "source": [
    "real_data = np.concatenate((data_matrix_1, data_matrix_2), axis=0)\n",
    "real_data.shape"
   ]
  },
  {
   "cell_type": "code",
   "execution_count": null,
   "metadata": {
    "collapsed": false
   },
   "outputs": [],
   "source": [
    "#peak-picking\n",
    "#data_pp = SelectKBest(k=500).fit_transform(real_data, real_labels) # score function is f_classif\n",
    "data_pp = SelectKBest(chi2,k=500).fit_transform(real_data, real_labels)"
   ]
  },
  {
   "cell_type": "code",
   "execution_count": 24,
   "metadata": {
    "collapsed": false
   },
   "outputs": [
    {
     "data": {
      "text/plain": [
       "(520705, 999)"
      ]
     },
     "execution_count": 24,
     "metadata": {},
     "output_type": "execute_result"
    }
   ],
   "source": [
    "minvals_1 = np.amin(data_matrix_1, 0)\n",
    "maxvals_1 = np.amax(data_matrix_1, 0)\n",
    "ranges_1 = 1.0 / (maxvals_1 - minvals_1)\n",
    "scaler_1 = np.diag(ranges_1)\n",
    "\n",
    "data1 = np.dot(data_matrix_1, scaler_1)\n",
    "data1.shape"
   ]
  },
  {
   "cell_type": "code",
   "execution_count": 25,
   "metadata": {
    "collapsed": false
   },
   "outputs": [
    {
     "data": {
      "text/plain": [
       "(520705, 999)"
      ]
     },
     "execution_count": 25,
     "metadata": {},
     "output_type": "execute_result"
    }
   ],
   "source": [
    "minvals_2 = np.amin(data_matrix_2, 0)\n",
    "maxvals_2 = np.amax(data_matrix_2, 0)\n",
    "ranges_2 = 1.0 / (maxvals_2 - minvals_2)\n",
    "scaler_2 = np.diag(ranges_2)\n",
    "\n",
    "data2 = np.dot(data_matrix_2, scaler_2)\n",
    "data2.shape"
   ]
  },
  {
   "cell_type": "markdown",
   "metadata": {},
   "source": [
    "# SVM"
   ]
  },
  {
   "cell_type": "code",
   "execution_count": 26,
   "metadata": {
    "collapsed": false
   },
   "outputs": [
    {
     "name": "stderr",
     "output_type": "stream",
     "text": [
      "/esat/bioidata/guests/wzhang/wanqiu/conda/lib/python3.6/site-packages/numexpr/cpuinfo.py:42: UserWarning: [Errno 12] Cannot allocate memory\n",
      "  warnings.warn(str(e), UserWarning, stacklevel=stacklevel)\n"
     ]
    }
   ],
   "source": [
    "from sklearn.svm import SVC, LinearSVC\n",
    "from sklearn import metrics\n",
    "import optunity\n",
    "import optunity.metrics\n",
    "import optunity.cross_validation\n",
    "\n",
    "import numpy as np\n",
    "from sklearn import linear_model"
   ]
  },
  {
   "cell_type": "markdown",
   "metadata": {},
   "source": [
    "# Full data"
   ]
  },
  {
   "cell_type": "code",
   "execution_count": 27,
   "metadata": {
    "collapsed": true
   },
   "outputs": [],
   "source": [
    "#data_2 = np.hstack((real_rows_xy_2, data_pp_scaled_2))\n",
    "\n",
    "def nested_cv_data2_SVM():\n",
    "    @optunity.cross_validated(x=data2, y=labels, num_folds=2,\n",
    "                         aggregator=optunity.cross_validation.identity)\n",
    "    def nested_cv_data2SVM(x_train, y_train, x_test, y_test):\n",
    "\n",
    "    # extract spatial location of pixels (first 2 cols)\n",
    "        x_train = x_train[:, 2:]\n",
    "        rows = x_test[:, 0]\n",
    "        cols = x_test[:, 1]\n",
    "        x_test = x_test[:, 2:]\n",
    "    \n",
    "    # inner cross-validation to estimate performance of a set of hyperparameters\n",
    "        @optunity.cross_validated(x=x_train, y=y_train, num_folds=3, num_iter=2)\n",
    "        def inner_cv_data2SVM(x_train, y_train, x_test, y_test, C):\n",
    "            model_SVM = LinearSVC(C=C).fit(x_train, y_train)\n",
    "            predictions_SVM = model_SVM.decision_function(x_test)\n",
    "            roc_SVM = optunity.metrics.roc_auc(y_test, predictions_SVM)\n",
    "        #print('auroc in xval: %1.3f' % roc)\n",
    "            return roc_SVM\n",
    "    \n",
    "        hpars, info, _ = optunity.maximize(inner_cv_data2SVM, num_evals=10, C=[0, 10], pmap=optunity.parallel.pmap)\n",
    "    #print('')\n",
    "    #print('Hyperparameters: ' + str(hpars))\n",
    "    #print('Cross-validated AUROC after tuning: %1.3f' % info.optimum)\n",
    "        model_SVM = LinearSVC(**hpars).fit(x_train, y_train)\n",
    "        predictions_SVM = model_SVM.decision_function(x_test)\n",
    "        auc_SVM = optunity.metrics.roc_auc(y_test, predictions_SVM)\n",
    "        return (auc_SVM, np.vstack((rows, cols, predictions_SVM)),np.vstack((rows, cols, y_test)))\n",
    "\n",
    "    res_SVM = nested_cv_data2SVM()\n",
    "    roc_auc_SVM = sum(map(op.itemgetter(0), res_SVM)) / len(res_SVM)\n",
    "    \n",
    "    predictions_SVM = np.hstack(map(op.itemgetter(1), res_SVM))\n",
    "    y_test_SVM = np.hstack(map(op.itemgetter(2), res_SVM))\n",
    "    \n",
    "    #print('')\n",
    "    #print('Mean area under ROC curve in outer cross-validation: %1.3f' % mean_roc_auc_SVM)\n",
    "    return roc_auc_SVM, predictions_SVM, y_test_SVM\n"
   ]
  },
  {
   "cell_type": "code",
   "execution_count": 28,
   "metadata": {
    "collapsed": false
   },
   "outputs": [
    {
     "ename": "KeyboardInterrupt",
     "evalue": "",
     "output_type": "error",
     "traceback": [
      "\u001b[0;31m---------------------------------------------------------------------------\u001b[0m",
      "\u001b[0;31mKeyboardInterrupt\u001b[0m                         Traceback (most recent call last)",
      "\u001b[0;32m<ipython-input-28-2e8414921bd3>\u001b[0m in \u001b[0;36m<module>\u001b[0;34m()\u001b[0m\n\u001b[0;32m----> 1\u001b[0;31m \u001b[0mroc_auc_SVM\u001b[0m\u001b[0;34m,\u001b[0m \u001b[0mpredictios_SVM\u001b[0m\u001b[0;34m,\u001b[0m \u001b[0my_test_SVM\u001b[0m \u001b[0;34m=\u001b[0m \u001b[0mnested_cv_data2_SVM\u001b[0m\u001b[0;34m(\u001b[0m\u001b[0;34m)\u001b[0m\u001b[0;34m\u001b[0m\u001b[0m\n\u001b[0m\u001b[1;32m      2\u001b[0m \u001b[0mroc_auc_SVM\u001b[0m\u001b[0;34m\u001b[0m\u001b[0m\n",
      "\u001b[0;32m<ipython-input-27-4f8a2c994970>\u001b[0m in \u001b[0;36mnested_cv_data2_SVM\u001b[0;34m()\u001b[0m\n\u001b[1;32m      3\u001b[0m \u001b[0;32mdef\u001b[0m \u001b[0mnested_cv_data2_SVM\u001b[0m\u001b[0;34m(\u001b[0m\u001b[0;34m)\u001b[0m\u001b[0;34m:\u001b[0m\u001b[0;34m\u001b[0m\u001b[0m\n\u001b[1;32m      4\u001b[0m     @optunity.cross_validated(x=data2, y=labels, num_folds=2,\n\u001b[0;32m----> 5\u001b[0;31m                          aggregator=optunity.cross_validation.identity)\n\u001b[0m\u001b[1;32m      6\u001b[0m     \u001b[0;32mdef\u001b[0m \u001b[0mnested_cv_data2SVM\u001b[0m\u001b[0;34m(\u001b[0m\u001b[0mx_train\u001b[0m\u001b[0;34m,\u001b[0m \u001b[0my_train\u001b[0m\u001b[0;34m,\u001b[0m \u001b[0mx_test\u001b[0m\u001b[0;34m,\u001b[0m \u001b[0my_test\u001b[0m\u001b[0;34m)\u001b[0m\u001b[0;34m:\u001b[0m\u001b[0;34m\u001b[0m\u001b[0m\n\u001b[1;32m      7\u001b[0m \u001b[0;34m\u001b[0m\u001b[0m\n",
      "\u001b[0;32m/esat/bioidata/guests/wzhang/wanqiu/conda/lib/python3.6/site-packages/optunity/cross_validation.py\u001b[0m in \u001b[0;36mwrapper\u001b[0;34m(f)\u001b[0m\n\u001b[1;32m    483\u001b[0m     \u001b[0;32mdef\u001b[0m \u001b[0mwrapper\u001b[0m\u001b[0;34m(\u001b[0m\u001b[0mf\u001b[0m\u001b[0;34m)\u001b[0m\u001b[0;34m:\u001b[0m\u001b[0;34m\u001b[0m\u001b[0m\n\u001b[1;32m    484\u001b[0m         \u001b[0margs\u001b[0m\u001b[0;34m[\u001b[0m\u001b[0;34m'f'\u001b[0m\u001b[0;34m]\u001b[0m \u001b[0;34m=\u001b[0m \u001b[0mf\u001b[0m\u001b[0;34m\u001b[0m\u001b[0m\n\u001b[0;32m--> 485\u001b[0;31m         \u001b[0;32mreturn\u001b[0m \u001b[0mcross_validated_callable\u001b[0m\u001b[0;34m(\u001b[0m\u001b[0;34m**\u001b[0m\u001b[0margs\u001b[0m\u001b[0;34m)\u001b[0m\u001b[0;34m\u001b[0m\u001b[0m\n\u001b[0m\u001b[1;32m    486\u001b[0m     \u001b[0;32mreturn\u001b[0m \u001b[0mwrapper\u001b[0m\u001b[0;34m\u001b[0m\u001b[0m\n\u001b[1;32m    487\u001b[0m \u001b[0;34m\u001b[0m\u001b[0m\n",
      "\u001b[0;32m/esat/bioidata/guests/wzhang/wanqiu/conda/lib/python3.6/site-packages/optunity/cross_validation.py\u001b[0m in \u001b[0;36m__init__\u001b[0;34m(self, f, x, num_folds, y, strata, folds, num_iter, regenerate_folds, clusters, aggregator)\u001b[0m\n\u001b[1;32m    308\u001b[0m         \u001b[0;32melse\u001b[0m\u001b[0;34m:\u001b[0m\u001b[0;34m\u001b[0m\u001b[0m\n\u001b[1;32m    309\u001b[0m             self._folds = [generate_folds(self.len_x, num_folds, self.strata, self.clusters)\n\u001b[0;32m--> 310\u001b[0;31m                            for _ in range(num_iter)]\n\u001b[0m\u001b[1;32m    311\u001b[0m         \u001b[0mfunctools\u001b[0m\u001b[0;34m.\u001b[0m\u001b[0mupdate_wrapper\u001b[0m\u001b[0;34m(\u001b[0m\u001b[0mself\u001b[0m\u001b[0;34m,\u001b[0m \u001b[0mf\u001b[0m\u001b[0;34m)\u001b[0m\u001b[0;34m\u001b[0m\u001b[0m\n\u001b[1;32m    312\u001b[0m \u001b[0;34m\u001b[0m\u001b[0m\n",
      "\u001b[0;32m/esat/bioidata/guests/wzhang/wanqiu/conda/lib/python3.6/site-packages/optunity/cross_validation.py\u001b[0m in \u001b[0;36m<listcomp>\u001b[0;34m(.0)\u001b[0m\n\u001b[1;32m    308\u001b[0m         \u001b[0;32melse\u001b[0m\u001b[0;34m:\u001b[0m\u001b[0;34m\u001b[0m\u001b[0m\n\u001b[1;32m    309\u001b[0m             self._folds = [generate_folds(self.len_x, num_folds, self.strata, self.clusters)\n\u001b[0;32m--> 310\u001b[0;31m                            for _ in range(num_iter)]\n\u001b[0m\u001b[1;32m    311\u001b[0m         \u001b[0mfunctools\u001b[0m\u001b[0;34m.\u001b[0m\u001b[0mupdate_wrapper\u001b[0m\u001b[0;34m(\u001b[0m\u001b[0mself\u001b[0m\u001b[0;34m,\u001b[0m \u001b[0mf\u001b[0m\u001b[0;34m)\u001b[0m\u001b[0;34m\u001b[0m\u001b[0m\n\u001b[1;32m    312\u001b[0m \u001b[0;34m\u001b[0m\u001b[0m\n",
      "\u001b[0;32m/esat/bioidata/guests/wzhang/wanqiu/conda/lib/python3.6/site-packages/optunity/cross_validation.py\u001b[0m in \u001b[0;36mgenerate_folds\u001b[0;34m(num_rows, num_folds, strata, clusters)\u001b[0m\n\u001b[1;32m    230\u001b[0m                 \u001b[0minstances\u001b[0m\u001b[0;34m.\u001b[0m\u001b[0mremove\u001b[0m\u001b[0;34m(\u001b[0m\u001b[0minstance_idx\u001b[0m\u001b[0;34m)\u001b[0m\u001b[0;34m\u001b[0m\u001b[0m\n\u001b[1;32m    231\u001b[0m \u001b[0;34m\u001b[0m\u001b[0m\n\u001b[0;32m--> 232\u001b[0;31m             \u001b[0mpermuted_stratum\u001b[0m \u001b[0;34m=\u001b[0m \u001b[0mpermuted_stratum\u001b[0m\u001b[0;34m[\u001b[0m\u001b[0mlen\u001b[0m\u001b[0;34m(\u001b[0m\u001b[0meligible\u001b[0m\u001b[0;34m)\u001b[0m\u001b[0;34m:\u001b[0m\u001b[0;34m]\u001b[0m\u001b[0;34m\u001b[0m\u001b[0m\n\u001b[0m\u001b[1;32m    233\u001b[0m \u001b[0;34m\u001b[0m\u001b[0m\n\u001b[1;32m    234\u001b[0m     \u001b[0;32mreturn\u001b[0m \u001b[0mfolds\u001b[0m\u001b[0;34m\u001b[0m\u001b[0m\n",
      "\u001b[0;31mKeyboardInterrupt\u001b[0m: "
     ]
    }
   ],
   "source": [
    "roc_auc_SVM, predictios_SVM, y_test_SVM = nested_cv_data2_SVM()\n",
    "roc_auc_SVM"
   ]
  },
  {
   "cell_type": "markdown",
   "metadata": {},
   "source": [
    "# Paritai Data"
   ]
  },
  {
   "cell_type": "code",
   "execution_count": 27,
   "metadata": {
    "collapsed": true
   },
   "outputs": [],
   "source": [
    "from sklearn.model_selection import train_test_split\n",
    "\n",
    "#data_2 = np.hstack((real_rows_xy_2, data_pp_scaled_2))\n",
    "\n",
    "def nested_cv_data2_pSVM():\n",
    "    \n",
    "    # split data2 into 10% for training and 90% for testing\n",
    "    X_trian_, X_test_, y_train_, y_test_ = train_test_split(data1, labels, test_size=0.95, random_state=0)\n",
    "    \n",
    "    #@optunity.cross_validated(x=X_trian_, y=y_train_, num_folds=2,\n",
    "     #                    aggregator=optunity.cross_validation.identity)\n",
    "    \n",
    "    def nested_cv_data2SVM(X_trian_, y_train_, X_test_, y_test_):\n",
    "\n",
    "    # extract spatial location of pixels (first 2 cols)\n",
    "        X_trian_ = X_trian_[:, 2:]\n",
    "        rows = X_test_[:, 0]\n",
    "        cols = X_test_[:, 1]\n",
    "        X_test_ = X_test_[:, 2:]\n",
    "    \n",
    "    # inner cross-validation to estimate performance of a set of hyperparameters\n",
    "        @optunity.cross_validated(x=X_trian_, y=y_train_, num_folds=10, num_iter=2)\n",
    "        def inner_cv_data2SVM(x_train, y_train, x_test, y_test, C):\n",
    "            model_SVM = LinearSVC(C=C).fit(x_train, y_train)\n",
    "            predictions_SVM = model_SVM.decision_function(x_test)\n",
    "            roc_SVM = optunity.metrics.roc_auc(y_test, predictions_SVM)\n",
    "        #print('auroc in xval: %1.3f' % roc)\n",
    "            return roc_SVM\n",
    "    \n",
    "        hpars, info, _ = optunity.maximize(inner_cv_data2SVM, num_evals=10, C=[0, 10], pmap=optunity.parallel.pmap)\n",
    "    #print('')\n",
    "    #print('Hyperparameters: ' + str(hpars))\n",
    "    #print('Cross-validated AUROC after tuning: %1.3f' % info.optimum)\n",
    "        model_SVM = LinearSVC(**hpars).fit(X_trian_, y_train_)\n",
    "        predictions_SVM = model_SVM.decision_function(X_test_)\n",
    "        auc_SVM = optunity.metrics.roc_auc(y_test_, predictions_SVM)\n",
    "        return (auc_SVM, np.vstack((rows, cols, predictions_SVM)),np.vstack((rows, cols, y_test_)))\n",
    "\n",
    "    res_SVM = nested_cv_data2SVM(X_trian_, y_train_, X_test_, y_test_)\n",
    "    #mean_roc_auc_SVM = sum(map(op.itemgetter(0), res_SVM)) / len(res_SVM)\n",
    "    roc_auc_pSVM = res_SVM[0]\n",
    "    #predictions_SVM = np.hstack(map(op.itemgetter(1), res_SVM))\n",
    "    #y_test_SVM = np.hstack(map(op.itemgetter(2), res_SVM))\n",
    "    predictions_pSVM = res_SVM[1]\n",
    "    y_test_pSVM = res_SVM[2]\n",
    "    #print('')\n",
    "    #print('Mean area under ROC curve in outer cross-validation: %1.3f' % mean_roc_auc_SVM)\n",
    "    return  roc_auc_pSVM, predictions_pSVM, y_test_pSVM\n",
    "\n"
   ]
  },
  {
   "cell_type": "code",
   "execution_count": null,
   "metadata": {
    "collapsed": false
   },
   "outputs": [],
   "source": [
    "roc_auc_pSVM, predictions_pSVM, y_test_pSVM = nested_cv_data2_pSVM()\n",
    "roc_acu_pSVM"
   ]
  },
  {
   "cell_type": "code",
   "execution_count": null,
   "metadata": {
    "collapsed": true
   },
   "outputs": [],
   "source": []
  }
 ],
 "metadata": {
  "kernelspec": {
   "display_name": "Python 3",
   "language": "python",
   "name": "python3"
  },
  "language_info": {
   "codemirror_mode": {
    "name": "ipython",
    "version": 3
   },
   "file_extension": ".py",
   "mimetype": "text/x-python",
   "name": "python",
   "nbconvert_exporter": "python",
   "pygments_lexer": "ipython3",
   "version": "3.6.0"
  }
 },
 "nbformat": 4,
 "nbformat_minor": 2
}
