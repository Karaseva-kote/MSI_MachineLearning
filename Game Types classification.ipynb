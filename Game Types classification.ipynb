{
 "cells": [
  {
   "cell_type": "code",
   "execution_count": 2,
   "metadata": {},
   "outputs": [
    {
     "name": "stdout",
     "output_type": "stream",
     "text": [
      "Checking whether there is an H2O instance running at http://localhost:54321. connected.\n"
     ]
    },
    {
     "data": {
      "text/html": [
       "<div style=\"overflow:auto\"><table style=\"width:50%\"><tr><td>H2O cluster uptime:</td>\n",
       "<td>10 mins 02 secs</td></tr>\n",
       "<tr><td>H2O cluster timezone:</td>\n",
       "<td>Europe/Paris</td></tr>\n",
       "<tr><td>H2O data parsing timezone:</td>\n",
       "<td>UTC</td></tr>\n",
       "<tr><td>H2O cluster version:</td>\n",
       "<td>3.18.0.2</td></tr>\n",
       "<tr><td>H2O cluster version age:</td>\n",
       "<td>1 month and 6 days </td></tr>\n",
       "<tr><td>H2O cluster name:</td>\n",
       "<td>wanqi</td></tr>\n",
       "<tr><td>H2O cluster total nodes:</td>\n",
       "<td>1</td></tr>\n",
       "<tr><td>H2O cluster free memory:</td>\n",
       "<td>870 Mb</td></tr>\n",
       "<tr><td>H2O cluster total cores:</td>\n",
       "<td>4</td></tr>\n",
       "<tr><td>H2O cluster allowed cores:</td>\n",
       "<td>4</td></tr>\n",
       "<tr><td>H2O cluster status:</td>\n",
       "<td>locked, healthy</td></tr>\n",
       "<tr><td>H2O connection url:</td>\n",
       "<td>http://localhost:54321</td></tr>\n",
       "<tr><td>H2O connection proxy:</td>\n",
       "<td>None</td></tr>\n",
       "<tr><td>H2O internal security:</td>\n",
       "<td>False</td></tr>\n",
       "<tr><td>H2O API Extensions:</td>\n",
       "<td>Algos, AutoML, Core V3, Core V4</td></tr>\n",
       "<tr><td>Python version:</td>\n",
       "<td>3.6.2 final</td></tr></table></div>"
      ],
      "text/plain": [
       "--------------------------  -------------------------------\n",
       "H2O cluster uptime:         10 mins 02 secs\n",
       "H2O cluster timezone:       Europe/Paris\n",
       "H2O data parsing timezone:  UTC\n",
       "H2O cluster version:        3.18.0.2\n",
       "H2O cluster version age:    1 month and 6 days\n",
       "H2O cluster name:           wanqi\n",
       "H2O cluster total nodes:    1\n",
       "H2O cluster free memory:    870 Mb\n",
       "H2O cluster total cores:    4\n",
       "H2O cluster allowed cores:  4\n",
       "H2O cluster status:         locked, healthy\n",
       "H2O connection url:         http://localhost:54321\n",
       "H2O connection proxy:\n",
       "H2O internal security:      False\n",
       "H2O API Extensions:         Algos, AutoML, Core V3, Core V4\n",
       "Python version:             3.6.2 final\n",
       "--------------------------  -------------------------------"
      ]
     },
     "metadata": {},
     "output_type": "display_data"
    }
   ],
   "source": [
    "import h2o\n",
    "import numpy as np\n",
    "import matplotlib.pyplot as plt\n",
    "h2o.init()"
   ]
  },
  {
   "cell_type": "markdown",
   "metadata": {},
   "source": [
    "# Model Construction"
   ]
  },
  {
   "cell_type": "code",
   "execution_count": 74,
   "metadata": {
    "collapsed": true
   },
   "outputs": [],
   "source": [
    "# Train Deep Learning model and validate on test set\n",
    "def model_construction():\n",
    "    #import data\n",
    "    train = h2o.import_file(\"C:/Users/wanqi/Documents/study/arcade-machinelearning/train.csv\")\n",
    "    test = h2o.import_file(\"C:/Users/wanqi/Documents/study/arcade-machinelearning/test.csv\")\n",
    "    # Specify the response and predictor columns\n",
    "    y = \"game\"\n",
    "    x = train.names[0:58]\n",
    "    # Encode the response column as categorical for multinomial classification\n",
    "    train[y] = train[y].asfactor()\n",
    "    test[y] = test[y].asfactor()\n",
    "    #construct neural networks\n",
    "    model = H2ODeepLearningEstimator(distribution=\"multinomial\",activation=\"MaxoutWithDropout\",hidden=[20],\n",
    "                                     sparse=True,l2=1e-4,epochs=15,score_each_iteration=True,balance_classes=True,\n",
    "                                     max_after_balance_size=2.0,loss=\"CrossEntropy\",stopping_metric=\"mean_per_class_error\",\n",
    "                                     shuffle_training_data=True)\n",
    "    #train the neural networks\n",
    "    model.train(x=x,y=y,training_frame=train,validation_frame=test)\n",
    "    #extract the results\n",
    "    test_results = model.model_performance(valid=True) # validation metrics\n",
    "    df = test_results.confusion_matrix().as_data_frame() # extract confusion_matrix and transfer to dataframe\n",
    "    error_array = df.as_matrix(columns=df.columns[7:8]) # extract error column and transfer to array\n",
    "    error = error_array.transpose()  #transpose array to shape(1,8)\n",
    "    return error"
   ]
  },
  {
   "cell_type": "markdown",
   "metadata": {},
   "source": [
    "# Results"
   ]
  },
  {
   "cell_type": "code",
   "execution_count": 75,
   "metadata": {},
   "outputs": [
    {
     "name": "stdout",
     "output_type": "stream",
     "text": [
      "Parse progress: |█████████████████████████████████████████████████████████| 100%\n",
      "Parse progress: |█████████████████████████████████████████████████████████| 100%\n",
      "deeplearning Model Build progress: |██████████████████████████████████████| 100%\n",
      "Parse progress: |█████████████████████████████████████████████████████████| 100%\n",
      "Parse progress: |█████████████████████████████████████████████████████████| 100%\n",
      "deeplearning Model Build progress: |██████████████████████████████████████| 100%\n",
      "Parse progress: |█████████████████████████████████████████████████████████| 100%\n",
      "Parse progress: |█████████████████████████████████████████████████████████| 100%\n",
      "deeplearning Model Build progress: |██████████████████████████████████████| 100%\n",
      "Parse progress: |█████████████████████████████████████████████████████████| 100%\n",
      "Parse progress: |█████████████████████████████████████████████████████████| 100%\n",
      "deeplearning Model Build progress: |██████████████████████████████████████| 100%\n",
      "Parse progress: |█████████████████████████████████████████████████████████| 100%\n",
      "Parse progress: |█████████████████████████████████████████████████████████| 100%\n",
      "deeplearning Model Build progress: |██████████████████████████████████████| 100%\n",
      "Parse progress: |█████████████████████████████████████████████████████████| 100%\n",
      "Parse progress: |█████████████████████████████████████████████████████████| 100%\n",
      "deeplearning Model Build progress: |██████████████████████████████████████| 100%\n",
      "Parse progress: |█████████████████████████████████████████████████████████| 100%\n",
      "Parse progress: |█████████████████████████████████████████████████████████| 100%\n",
      "deeplearning Model Build progress: |██████████████████████████████████████| 100%\n",
      "Parse progress: |█████████████████████████████████████████████████████████| 100%\n",
      "Parse progress: |█████████████████████████████████████████████████████████| 100%\n",
      "deeplearning Model Build progress: |██████████████████████████████████████| 100%\n",
      "Parse progress: |█████████████████████████████████████████████████████████| 100%\n",
      "Parse progress: |█████████████████████████████████████████████████████████| 100%\n",
      "deeplearning Model Build progress: |██████████████████████████████████████| 100%\n",
      "Parse progress: |█████████████████████████████████████████████████████████| 100%\n",
      "Parse progress: |█████████████████████████████████████████████████████████| 100%\n",
      "deeplearning Model Build progress: |██████████████████████████████████████| 100%\n"
     ]
    }
   ],
   "source": [
    "error_BOMBER_MANs = []\n",
    "error_DDRAGONs = []\n",
    "error_GALAXIANs = []\n",
    "error_GYRUSSs = []\n",
    "error_MORTAL_COMBATs = []\n",
    "error_PUCKMANs = []\n",
    "error_STREETFIGHTERs = []\n",
    "error_Totals = []\n",
    "all_error = []\n",
    "\n",
    "#Iteration\n",
    "num = 10\n",
    "xs = [x for x in range(1,num+1)]\n",
    "for x in range(0, num):\n",
    "    error = model_construction()\n",
    "    \n",
    "    error_BOMBER_MANs.append(error[0,0])\n",
    "    error_DDRAGONs.append(error[0,1])\n",
    "    error_GALAXIANs.append(error[0,2])\n",
    "    error_GYRUSSs.append(error[0,3])\n",
    "    error_MORTAL_COMBATs.append(error[0,4])\n",
    "    error_PUCKMANs.append(error[0,5])\n",
    "    error_STREETFIGHTERs.append(error[0,6])\n",
    "    error_Totals.append(error[0,7])\n",
    "    \n",
    "all_error = [error_BOMBER_MANs, error_DDRAGONs,error_GALAXIANs, error_GYRUSSs, error_MORTAL_COMBATs, error_PUCKMANs,\n",
    "             error_STREETFIGHTERs, error_Totals]  "
   ]
  },
  {
   "cell_type": "markdown",
   "metadata": {},
   "source": [
    "# Boxplot"
   ]
  },
  {
   "cell_type": "code",
   "execution_count": 76,
   "metadata": {},
   "outputs": [
    {
     "data": {
      "image/png": "[encoded data removed]",
      "text/plain": [
       "<matplotlib.figure.Figure at 0x1fc87a6ae80>"
      ]
     },
     "metadata": {},
     "output_type": "display_data"
    }
   ],
   "source": [
    "fig = plt.figure()\n",
    "fig.suptitle('Game Types classification', fontsize=15, fontweight='bold')\n",
    "ax = fig.add_subplot(111)\n",
    "#ax.set_xticklabels(['A', 'Transfer_SGD', 'Transfer_SVM'])\n",
    "ax.get_xaxis().tick_bottom()\n",
    "ax.get_yaxis().tick_left()\n",
    "ax.boxplot(all_error)\n",
    "plt.boxplot(all_error)\n",
    "#ax.set_title('axes title')\n",
    "plt.xticks([1,2,3,4,5,6,7,8],['A','B', 'C', 'D','E','F','G','Total'])\n",
    "ax.set_ylabel('Error rate')\n",
    "plt.show()"
   ]
  },
  {
   "cell_type": "code",
   "execution_count": 77,
   "metadata": {},
   "outputs": [
    {
     "data": {
      "text/plain": [
       "[[0.0364963503649635,\n",
       "  0.3722627737226277,\n",
       "  0.021897810218978103,\n",
       "  0.3722627737226277,\n",
       "  0.1386861313868613,\n",
       "  0.35036496350364965,\n",
       "  0.10948905109489052,\n",
       "  0.08759124087591241,\n",
       "  0.10218978102189781,\n",
       "  0.3357664233576642],\n",
       " [0.08333333333333333,\n",
       "  0.1111111111111111,\n",
       "  0.08333333333333333,\n",
       "  0.05555555555555555,\n",
       "  0.05555555555555555,\n",
       "  0.1111111111111111,\n",
       "  0.05555555555555555,\n",
       "  0.08333333333333333,\n",
       "  0.08333333333333333,\n",
       "  0.05555555555555555],\n",
       " [0.07142857142857142,\n",
       "  0.07142857142857142,\n",
       "  0.09523809523809523,\n",
       "  0.07142857142857142,\n",
       "  0.07142857142857142,\n",
       "  0.11904761904761904,\n",
       "  0.11904761904761904,\n",
       "  0.07142857142857142,\n",
       "  0.11904761904761904,\n",
       "  0.07142857142857142],\n",
       " [0.08163265306122448,\n",
       "  0.08163265306122448,\n",
       "  0.08163265306122448,\n",
       "  0.08163265306122448,\n",
       "  0.09183673469387756,\n",
       "  0.08163265306122448,\n",
       "  0.08163265306122448,\n",
       "  0.08163265306122448,\n",
       "  0.08163265306122448,\n",
       "  0.08163265306122448],\n",
       " [0.24528301886792453,\n",
       "  0.22641509433962265,\n",
       "  0.2169811320754717,\n",
       "  0.18867924528301888,\n",
       "  0.16981132075471697,\n",
       "  0.20754716981132076,\n",
       "  0.2169811320754717,\n",
       "  0.19811320754716982,\n",
       "  0.2169811320754717,\n",
       "  0.19811320754716982],\n",
       " [0.10067114093959731,\n",
       "  0.0,\n",
       "  0.6912751677852349,\n",
       "  0.0,\n",
       "  0.026845637583892617,\n",
       "  0.0,\n",
       "  0.3288590604026846,\n",
       "  0.11409395973154363,\n",
       "  0.2751677852348993,\n",
       "  0.0],\n",
       " [0.23076923076923078,\n",
       "  0.1794871794871795,\n",
       "  0.3076923076923077,\n",
       "  0.23076923076923078,\n",
       "  0.23076923076923078,\n",
       "  0.20512820512820512,\n",
       "  0.2564102564102564,\n",
       "  0.28205128205128205,\n",
       "  0.20512820512820512,\n",
       "  0.23076923076923078],\n",
       " [0.11367380560131796,\n",
       "  0.15980230642504117,\n",
       "  0.257001647446458,\n",
       "  0.15321252059308071,\n",
       "  0.10543657331136738,\n",
       "  0.15650741350906094,\n",
       "  0.18451400329489293,\n",
       "  0.12355848434925865,\n",
       "  0.16803953871499178,\n",
       "  0.14662273476112025]]"
      ]
     },
     "execution_count": 77,
     "metadata": {},
     "output_type": "execute_result"
    }
   ],
   "source": [
    "all_error"
   ]
  },
  {
   "cell_type": "code",
   "execution_count": null,
   "metadata": {
    "collapsed": true
   },
   "outputs": [],
   "source": []
  }
 ],
 "metadata": {
  "kernelspec": {
   "display_name": "Python 3",
   "language": "python",
   "name": "python3"
  },
  "language_info": {
   "codemirror_mode": {
    "name": "ipython",
    "version": 3
   },
   "file_extension": ".py",
   "mimetype": "text/x-python",
   "name": "python",
   "nbconvert_exporter": "python",
   "pygments_lexer": "ipython3",
   "version": "3.6.2"
  }
 },
 "nbformat": 4,
 "nbformat_minor": 2
}
