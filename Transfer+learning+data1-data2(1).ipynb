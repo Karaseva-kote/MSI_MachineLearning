{
 "cells": [
  {
   "cell_type": "code",
   "execution_count": 1,
   "metadata": {
    "collapsed": true
   },
   "outputs": [],
   "source": [
    "import scipy.io\n",
    "import numpy as np\n",
    "import operator as op"
   ]
  },
  {
   "cell_type": "code",
   "execution_count": 2,
   "metadata": {
    "collapsed": true
   },
   "outputs": [],
   "source": [
    "%matplotlib inline\n",
    "import matplotlib\n",
    "import matplotlib.pyplot as plt # matplotlib\n",
    "matplotlib.rcParams['figure.figsize'] = list(map(lambda x: 2*x, matplotlib.rcParams['figure.figsize']))\n",
    "matplotlib.style.use('ggplot')"
   ]
  },
  {
   "cell_type": "code",
   "execution_count": 3,
   "metadata": {
    "collapsed": false
   },
   "outputs": [
    {
     "data": {
      "text/plain": [
       "dict_keys(['__header__', '__version__', '__globals__', 'bin', 'data1_Xian', 'label1', 'spotColumn1_Xian', 'spotRow1_Xian'])"
      ]
     },
     "execution_count": 3,
     "metadata": {},
     "output_type": "execute_result"
    }
   ],
   "source": [
    "data_2 = scipy.io.loadmat('../../data2.mat')\n",
    "data_1 = scipy.io.loadmat('../../data1.mat')\n",
    "data_1.keys()"
   ]
  },
  {
   "cell_type": "code",
   "execution_count": 4,
   "metadata": {
    "collapsed": false
   },
   "outputs": [
    {
     "data": {
      "text/plain": [
       "array([[  1996.95878277],\n",
       "       [  1998.24538575],\n",
       "       [  1999.53198872],\n",
       "       ..., \n",
       "       [ 20005.54064941],\n",
       "       [ 20006.82725239],\n",
       "       [ 20008.11385537]])"
      ]
     },
     "execution_count": 4,
     "metadata": {},
     "output_type": "execute_result"
    }
   ],
   "source": [
    "coorX_1 = data_1['spotRow1_Xian'][0]\n",
    "coorY_1 = data_1['spotColumn1_Xian'][0]\n",
    "mz_values_1 = data_1['bin'].T\n",
    "mz_values_1"
   ]
  },
  {
   "cell_type": "code",
   "execution_count": 5,
   "metadata": {
    "collapsed": false
   },
   "outputs": [],
   "source": [
    "coorY_2 = data_2['spotColumn2_Xian'][0]\n",
    "coorX_2 = data_2['spotRow2_Xian'][0]\n",
    "mz_values_2 = data_2['bin'].T"
   ]
  },
  {
   "cell_type": "code",
   "execution_count": 6,
   "metadata": {
    "collapsed": false
   },
   "outputs": [
    {
     "name": "stdout",
     "output_type": "stream",
     "text": [
      "nrows 129, ncols 154\n"
     ]
    }
   ],
   "source": [
    "coorX_1 -= coorX_1.min()\n",
    "coorY_1 -= coorY_1.min()\n",
    "\n",
    "nrows_1 = coorX_1.max() + 1\n",
    "ncols_1 = coorY_1.max() + 1\n",
    "print('nrows %d, ncols %d' % (nrows_1, ncols_1))"
   ]
  },
  {
   "cell_type": "code",
   "execution_count": 7,
   "metadata": {
    "collapsed": false
   },
   "outputs": [
    {
     "name": "stdout",
     "output_type": "stream",
     "text": [
      "nrows 98, ncols 138\n"
     ]
    }
   ],
   "source": [
    "coorX_2 -= coorX_2.min()\n",
    "coorY_2 -= coorY_2.min()\n",
    "\n",
    "nrows_2 = coorX_2.max() + 1\n",
    "ncols_2 = coorY_2.max() + 1\n",
    "print('nrows %d, ncols %d' % (nrows_2, ncols_2))"
   ]
  },
  {
   "cell_type": "code",
   "execution_count": 8,
   "metadata": {
    "collapsed": false
   },
   "outputs": [
    {
     "data": {
      "text/plain": [
       "<matplotlib.image.AxesImage at 0x7fbdc8b21b00>"
      ]
     },
     "execution_count": 8,
     "metadata": {},
     "output_type": "execute_result"
    },
    {
     "data": {
      "image/png": "[encoded data removed]",
      "text/plain": [
       "<matplotlib.figure.Figure at 0x7fbdf65f4ba8>"
      ]
     },
     "metadata": {},
     "output_type": "display_data"
    }
   ],
   "source": [
    "mask_1 = np.zeros((nrows_1, ncols_1))\n",
    "for r, c in zip(coorX_1, coorY_1):\n",
    "    mask_1[r,c] = 1\n",
    "\n",
    "plt.imshow(mask_1, cmap='binary')"
   ]
  },
  {
   "cell_type": "code",
   "execution_count": 9,
   "metadata": {
    "collapsed": false
   },
   "outputs": [
    {
     "data": {
      "text/plain": [
       "<matplotlib.image.AxesImage at 0x7fbd5869c780>"
      ]
     },
     "execution_count": 9,
     "metadata": {},
     "output_type": "execute_result"
    },
    {
     "data": {
      "image/png": "[encoded data removed]",
      "text/plain": [
       "<matplotlib.figure.Figure at 0x7fbdf65f4eb8>"
      ]
     },
     "metadata": {},
     "output_type": "display_data"
    }
   ],
   "source": [
    "mask_2 = np.zeros((nrows_2, ncols_2))\n",
    "for r, c in zip(coorX_2, coorY_2):\n",
    "    mask_2[r,c] = 1\n",
    "\n",
    "plt.imshow(mask_2, cmap='binary')"
   ]
  },
  {
   "cell_type": "code",
   "execution_count": 10,
   "metadata": {
    "collapsed": false
   },
   "outputs": [
    {
     "data": {
      "text/plain": [
       "(9577, 14000)"
      ]
     },
     "execution_count": 10,
     "metadata": {},
     "output_type": "execute_result"
    }
   ],
   "source": [
    "data_cube_1 = np.zeros((nrows_1, ncols_1, mz_values_1.shape[0]))\n",
    "data_cube_1[coorX_1, coorY_1, :] = data_1[\"data1_Xian\"]\n",
    "\n",
    "data_matrix_1 = data_1['data1_Xian']\n",
    "data_matrix_1.shape"
   ]
  },
  {
   "cell_type": "code",
   "execution_count": 11,
   "metadata": {
    "collapsed": false
   },
   "outputs": [
    {
     "data": {
      "text/plain": [
       "(6869, 14000)"
      ]
     },
     "execution_count": 11,
     "metadata": {},
     "output_type": "execute_result"
    }
   ],
   "source": [
    "data_cube_2 = np.zeros((nrows_2, ncols_2, mz_values_2.shape[0]))\n",
    "data_cube_2[coorX_2, coorY_2, :] = data_2[\"data2_Xian\"]\n",
    "\n",
    "data_matrix_2 = data_2['data2_Xian']\n",
    "data_matrix_2.shape"
   ]
  },
  {
   "cell_type": "code",
   "execution_count": 12,
   "metadata": {
    "collapsed": false
   },
   "outputs": [
    {
     "data": {
      "text/plain": [
       "(9577, 2)"
      ]
     },
     "execution_count": 12,
     "metadata": {},
     "output_type": "execute_result"
    }
   ],
   "source": [
    "row2grid_1 = {r: (coorX_1[r], coorY_1[r]) for r in range(data_matrix_1.shape[0])}\n",
    "grid2row_1 = {(coorX_1[r], coorY_1[r]): r for r in range(data_matrix_1.shape[0])}\n",
    "\n",
    "get_bin_1 = lambda mz: np.argmin(np.abs(mz_values_1 - mz))\n",
    "\n",
    "real_rows_1 = []\n",
    "real_rows_xy_1 = []\n",
    "for r in range(nrows_1):\n",
    "    for c in range(ncols_1):\n",
    "        try:\n",
    "            row_1 = grid2row_1[(r, c)]\n",
    "            real_rows_xy_1.append((r, c))\n",
    "            real_rows_1.append(row_1)\n",
    "        except:\n",
    "            pass\n",
    "        \n",
    "real_rows_1 = np.array(real_rows_1)\n",
    "real_rows_1.shape\n",
    "\n",
    "real_rows_xy_1 = np.array(np.array(real_rows_xy_1))\n",
    "real_rows_xy_1.shape"
   ]
  },
  {
   "cell_type": "code",
   "execution_count": 13,
   "metadata": {
    "collapsed": false
   },
   "outputs": [
    {
     "data": {
      "text/plain": [
       "(6869, 2)"
      ]
     },
     "execution_count": 13,
     "metadata": {},
     "output_type": "execute_result"
    }
   ],
   "source": [
    "row2grid_2 = {r: (coorX_2[r], coorY_2[r]) for r in range(data_matrix_2.shape[0])}\n",
    "grid2row_2 = {(coorX_2[r], coorY_2[r]): r for r in range(data_matrix_2.shape[0])}\n",
    "\n",
    "get_bin_2 = lambda mz: np.argmin(np.abs(mz_values_2 - mz))\n",
    "\n",
    "real_rows_2 = []\n",
    "real_rows_xy_2 = []\n",
    "for r in range(nrows_2):\n",
    "    for c in range(ncols_2):\n",
    "        try:\n",
    "            row_2 = grid2row_2[(r, c)]\n",
    "            real_rows_xy_2.append((r, c))\n",
    "            real_rows_2.append(row_2)\n",
    "        except:\n",
    "            pass\n",
    "        \n",
    "real_rows_2 = np.array(real_rows_2)\n",
    "real_rows_2.shape\n",
    "\n",
    "real_rows_xy_2 = np.array(np.array(real_rows_xy_2))\n",
    "real_rows_xy_2.shape"
   ]
  },
  {
   "cell_type": "code",
   "execution_count": 14,
   "metadata": {
    "collapsed": true
   },
   "outputs": [],
   "source": [
    "def make_image_1(rows): # very inefficient implementation but doesnt matter\n",
    "    \"\"\"Makes a 2d image from row indices in raw data.\"\"\"\n",
    "    img_1 = np.zeros((nrows_1, ncols_1)) + 1   \n",
    "    for r in range(nrows_1):\n",
    "        for c in range(ncols_1):\n",
    "            try:\n",
    "                row = grid2row_1[(r, c)]\n",
    "                img_1[r, c] = rows[row]\n",
    "            except:\n",
    "                pass\n",
    "    return img_1\n",
    "\n",
    "def make_image_real_1(rows):\n",
    "    \"\"\"Makes a 2d image from real rows with data (i.e., rows in real_rows).\"\"\"\n",
    "    img_1 = np.zeros((nrows_1, ncols_1)) \n",
    "    for idx, val in enumerate(rows):\n",
    "        x, y = real_rows_xy_1[idx]\n",
    "        img_1[x, y] = val\n",
    "    return img_1"
   ]
  },
  {
   "cell_type": "code",
   "execution_count": 15,
   "metadata": {
    "collapsed": true
   },
   "outputs": [],
   "source": [
    "def make_image_2(rows): # very inefficient implementation but doesnt matter\n",
    "    \"\"\"Makes a 2d image from row indices in raw data.\"\"\"\n",
    "    img_2 = np.zeros((nrows_2, ncols_2)) + 1   \n",
    "    for r in range(nrows_2):\n",
    "        for c in range(ncols_2):\n",
    "            try:\n",
    "                row = grid2row_2[(r, c)]\n",
    "                img_2[r, c] = rows[row]\n",
    "            except:\n",
    "                pass\n",
    "    return img_2\n",
    "\n",
    "def make_image_real_2(rows):\n",
    "    \"\"\"Makes a 2d image from real rows with data (i.e., rows in real_rows).\"\"\"\n",
    "    img_2 = np.zeros((nrows_2, ncols_2)) \n",
    "    for idx, val in enumerate(rows):\n",
    "        x, y = real_rows_xy_2[idx]\n",
    "        img_2[x, y] = val\n",
    "    return img_2"
   ]
  },
  {
   "cell_type": "code",
   "execution_count": 16,
   "metadata": {
    "collapsed": false
   },
   "outputs": [
    {
     "data": {
      "text/plain": [
       "<matplotlib.colorbar.Colorbar at 0x7fbc79269c50>"
      ]
     },
     "execution_count": 16,
     "metadata": {},
     "output_type": "execute_result"
    },
    {
     "data": {
      "image/png": "[encoded data removed]",
      "text/plain": [
       "<matplotlib.figure.Figure at 0x7fbdf65f4d68>"
      ]
     },
     "metadata": {},
     "output_type": "display_data"
    }
   ],
   "source": [
    "bin_idx_1 = get_bin_1(5800) # molecular mass 5800\n",
    "#plt.imshow(data_cube[:,:, insulin_bin_idx])\n",
    "\n",
    "bin_img_1 = make_image_1(data_matrix_1[:, bin_idx_1]) \n",
    "\n",
    "plt.imshow(np.log10(1+bin_img_1), cmap = 'viridis') # log10 changes the distribution so we can see what's going on better\n",
    "plt.colorbar()\n",
    "#python 3"
   ]
  },
  {
   "cell_type": "code",
   "execution_count": 17,
   "metadata": {
    "collapsed": false
   },
   "outputs": [
    {
     "data": {
      "text/plain": [
       "<matplotlib.colorbar.Colorbar at 0x7fbc790ff1d0>"
      ]
     },
     "execution_count": 17,
     "metadata": {},
     "output_type": "execute_result"
    },
    {
     "data": {
      "image/png": "[encoded data removed]",
      "text/plain": [
       "<matplotlib.figure.Figure at 0x7fbdcb853c88>"
      ]
     },
     "metadata": {},
     "output_type": "display_data"
    }
   ],
   "source": [
    "bin_idx_2 = get_bin_2(5800) # molecular mass 5800\n",
    "#plt.imshow(data_cube[:,:, insulin_bin_idx])\n",
    "\n",
    "bin_img_2 = make_image_2(data_matrix_2[:, bin_idx_2]) \n",
    "\n",
    "plt.imshow(np.log10(1+bin_img_2), cmap = 'viridis') # log10 changes the distribution so we can see what's going on better\n",
    "plt.colorbar()\n",
    "#python 3"
   ]
  },
  {
   "cell_type": "code",
   "execution_count": 18,
   "metadata": {
    "collapsed": false
   },
   "outputs": [
    {
     "data": {
      "text/plain": [
       "(array([  8.43300000e+03,   2.39000000e+02,   9.80000000e+01,\n",
       "          1.04000000e+02,   6.40000000e+01,   4.90000000e+01,\n",
       "          5.40000000e+01,   3.50000000e+01,   3.40000000e+01,\n",
       "          3.20000000e+01,   3.30000000e+01,   2.40000000e+01,\n",
       "          2.00000000e+01,   2.20000000e+01,   2.00000000e+01,\n",
       "          2.10000000e+01,   2.40000000e+01,   1.20000000e+01,\n",
       "          1.90000000e+01,   5.00000000e+00,   1.40000000e+01,\n",
       "          2.10000000e+01,   2.40000000e+01,   1.40000000e+01,\n",
       "          2.50000000e+01,   1.70000000e+01,   1.00000000e+01,\n",
       "          9.00000000e+00,   9.00000000e+00,   7.00000000e+00,\n",
       "          1.20000000e+01,   6.00000000e+00,   8.00000000e+00,\n",
       "          9.00000000e+00,   7.00000000e+00,   1.10000000e+01,\n",
       "          7.00000000e+00,   7.00000000e+00,   7.00000000e+00,\n",
       "          4.00000000e+00,   0.00000000e+00,   2.00000000e+00,\n",
       "          1.00000000e+00,   1.00000000e+00,   0.00000000e+00,\n",
       "          1.00000000e+00,   0.00000000e+00,   1.00000000e+00,\n",
       "          0.00000000e+00,   1.00000000e+00]),\n",
       " array([ 0.        ,  0.03130106,  0.06260211,  0.09390317,  0.12520423,\n",
       "         0.15650528,  0.18780634,  0.2191074 ,  0.25040845,  0.28170951,\n",
       "         0.31301057,  0.34431162,  0.37561268,  0.40691374,  0.43821479,\n",
       "         0.46951585,  0.50081691,  0.53211796,  0.56341902,  0.59472008,\n",
       "         0.62602113,  0.65732219,  0.68862325,  0.7199243 ,  0.75122536,\n",
       "         0.78252642,  0.81382747,  0.84512853,  0.87642959,  0.90773064,\n",
       "         0.9390317 ,  0.97033276,  1.00163381,  1.03293487,  1.06423593,\n",
       "         1.09553698,  1.12683804,  1.1581391 ,  1.18944016,  1.22074121,\n",
       "         1.25204227,  1.28334333,  1.31464438,  1.34594544,  1.3772465 ,\n",
       "         1.40854755,  1.43984861,  1.47114967,  1.50245072,  1.53375178,\n",
       "         1.56505284]),\n",
       " <a list of 50 Patch objects>)"
      ]
     },
     "execution_count": 18,
     "metadata": {},
     "output_type": "execute_result"
    },
    {
     "data": {
      "image/png": "[encoded data removed]",
      "text/plain": [
       "<matplotlib.figure.Figure at 0x7fbc79320b70>"
      ]
     },
     "metadata": {},
     "output_type": "display_data"
    }
   ],
   "source": [
    "plt.hist(np.log10(1+data_matrix_1[:, bin_idx_1]), bins=50)\n",
    "#in m/z = 5800, each 'pixel' intensity"
   ]
  },
  {
   "cell_type": "code",
   "execution_count": 19,
   "metadata": {
    "collapsed": false
   },
   "outputs": [
    {
     "data": {
      "text/plain": [
       "(array([  6.65400000e+03,   5.40000000e+01,   2.30000000e+01,\n",
       "          1.20000000e+01,   1.20000000e+01,   9.00000000e+00,\n",
       "          3.00000000e+00,   6.00000000e+00,   8.00000000e+00,\n",
       "          5.00000000e+00,   6.00000000e+00,   3.00000000e+00,\n",
       "          8.00000000e+00,   4.00000000e+00,   5.00000000e+00,\n",
       "          5.00000000e+00,   2.00000000e+00,   2.00000000e+00,\n",
       "          4.00000000e+00,   4.00000000e+00,   1.00000000e+00,\n",
       "          3.00000000e+00,   5.00000000e+00,   0.00000000e+00,\n",
       "          3.00000000e+00,   1.00000000e+00,   1.00000000e+00,\n",
       "          3.00000000e+00,   4.00000000e+00,   5.00000000e+00,\n",
       "          1.00000000e+00,   1.00000000e+00,   0.00000000e+00,\n",
       "          2.00000000e+00,   1.00000000e+00,   1.00000000e+00,\n",
       "          0.00000000e+00,   0.00000000e+00,   1.00000000e+00,\n",
       "          2.00000000e+00,   1.00000000e+00,   0.00000000e+00,\n",
       "          0.00000000e+00,   0.00000000e+00,   1.00000000e+00,\n",
       "          0.00000000e+00,   1.00000000e+00,   0.00000000e+00,\n",
       "          1.00000000e+00,   1.00000000e+00]),\n",
       " array([ 0.        ,  0.02705949,  0.05411897,  0.08117846,  0.10823794,\n",
       "         0.13529743,  0.16235692,  0.1894164 ,  0.21647589,  0.24353537,\n",
       "         0.27059486,  0.29765435,  0.32471383,  0.35177332,  0.37883281,\n",
       "         0.40589229,  0.43295178,  0.46001126,  0.48707075,  0.51413024,\n",
       "         0.54118972,  0.56824921,  0.59530869,  0.62236818,  0.64942767,\n",
       "         0.67648715,  0.70354664,  0.73060612,  0.75766561,  0.7847251 ,\n",
       "         0.81178458,  0.83884407,  0.86590356,  0.89296304,  0.92002253,\n",
       "         0.94708201,  0.9741415 ,  1.00120099,  1.02826047,  1.05531996,\n",
       "         1.08237944,  1.10943893,  1.13649842,  1.1635579 ,  1.19061739,\n",
       "         1.21767687,  1.24473636,  1.27179585,  1.29885533,  1.32591482,\n",
       "         1.35297431]),\n",
       " <a list of 50 Patch objects>)"
      ]
     },
     "execution_count": 19,
     "metadata": {},
     "output_type": "execute_result"
    },
    {
     "data": {
      "image/png": "[encoded data removed]",
      "text/plain": [
       "<matplotlib.figure.Figure at 0x7fbd5869cf28>"
      ]
     },
     "metadata": {},
     "output_type": "display_data"
    }
   ],
   "source": [
    "plt.hist(np.log10(1+data_matrix_2[:, bin_idx_2]), bins=50)\n",
    "#in m/z = 5800, each 'pixel' intensity"
   ]
  },
  {
   "cell_type": "markdown",
   "metadata": {},
   "source": [
    "Normalization TIC"
   ]
  },
  {
   "cell_type": "code",
   "execution_count": 20,
   "metadata": {
    "collapsed": false
   },
   "outputs": [
    {
     "data": {
      "text/plain": [
       "(9577, 14000)"
      ]
     },
     "execution_count": 20,
     "metadata": {},
     "output_type": "execute_result"
    }
   ],
   "source": [
    "#normalisation TIC: calculate the sum of all peaks' intensities in a spectrum as the normalization factor and then all spectrum intensities \n",
    "#are divided by this value\n",
    "data_matrix_1_ = data_matrix_1.astype(np.float64)\n",
    "row_sums_1 = data_matrix_1_.sum(axis=1)\n",
    "data_matrix_1 = data_matrix_1_ / row_sums_1[:, np.newaxis]\n",
    "data_matrix_1.shape"
   ]
  },
  {
   "cell_type": "code",
   "execution_count": 21,
   "metadata": {
    "collapsed": false
   },
   "outputs": [
    {
     "data": {
      "text/plain": [
       "(array([  9.03900000e+03,   1.46000000e+02,   7.30000000e+01,\n",
       "          5.00000000e+01,   4.10000000e+01,   3.40000000e+01,\n",
       "          2.90000000e+01,   3.00000000e+01,   1.90000000e+01,\n",
       "          1.30000000e+01,   1.10000000e+01,   1.00000000e+01,\n",
       "          7.00000000e+00,   1.40000000e+01,   8.00000000e+00,\n",
       "          5.00000000e+00,   5.00000000e+00,   2.00000000e+00,\n",
       "          1.00000000e+01,   5.00000000e+00,   7.00000000e+00,\n",
       "          2.00000000e+00,   4.00000000e+00,   1.00000000e+00,\n",
       "          2.00000000e+00,   1.00000000e+00,   2.00000000e+00,\n",
       "          0.00000000e+00,   0.00000000e+00,   1.00000000e+00,\n",
       "          0.00000000e+00,   1.00000000e+00,   1.00000000e+00,\n",
       "          1.00000000e+00,   0.00000000e+00,   0.00000000e+00,\n",
       "          0.00000000e+00,   1.00000000e+00,   0.00000000e+00,\n",
       "          0.00000000e+00,   0.00000000e+00,   0.00000000e+00,\n",
       "          1.00000000e+00,   0.00000000e+00,   0.00000000e+00,\n",
       "          0.00000000e+00,   0.00000000e+00,   0.00000000e+00,\n",
       "          0.00000000e+00,   1.00000000e+00]),\n",
       " array([ 0.        ,  0.00110851,  0.00221702,  0.00332553,  0.00443403,\n",
       "         0.00554254,  0.00665105,  0.00775956,  0.00886807,  0.00997658,\n",
       "         0.01108508,  0.01219359,  0.0133021 ,  0.01441061,  0.01551912,\n",
       "         0.01662763,  0.01773614,  0.01884464,  0.01995315,  0.02106166,\n",
       "         0.02217017,  0.02327868,  0.02438719,  0.02549569,  0.0266042 ,\n",
       "         0.02771271,  0.02882122,  0.02992973,  0.03103824,  0.03214675,\n",
       "         0.03325525,  0.03436376,  0.03547227,  0.03658078,  0.03768929,\n",
       "         0.0387978 ,  0.0399063 ,  0.04101481,  0.04212332,  0.04323183,\n",
       "         0.04434034,  0.04544885,  0.04655736,  0.04766586,  0.04877437,\n",
       "         0.04988288,  0.05099139,  0.0520999 ,  0.05320841,  0.05431691,\n",
       "         0.05542542]),\n",
       " <a list of 50 Patch objects>)"
      ]
     },
     "execution_count": 21,
     "metadata": {},
     "output_type": "execute_result"
    },
    {
     "data": {
      "image/png": "[encoded data removed]",
      "text/plain": [
       "<matplotlib.figure.Figure at 0x7fbc78e29470>"
      ]
     },
     "metadata": {},
     "output_type": "display_data"
    }
   ],
   "source": [
    "plt.hist(np.log10(1+data_matrix_1[:, bin_idx_1]), bins=50)"
   ]
  },
  {
   "cell_type": "code",
   "execution_count": 22,
   "metadata": {
    "collapsed": false
   },
   "outputs": [
    {
     "data": {
      "text/plain": [
       "(array([  6.74800000e+03,   3.60000000e+01,   1.00000000e+01,\n",
       "          1.40000000e+01,   9.00000000e+00,   6.00000000e+00,\n",
       "          6.00000000e+00,   6.00000000e+00,   2.00000000e+00,\n",
       "          7.00000000e+00,   5.00000000e+00,   0.00000000e+00,\n",
       "          2.00000000e+00,   2.00000000e+00,   2.00000000e+00,\n",
       "          2.00000000e+00,   2.00000000e+00,   0.00000000e+00,\n",
       "          0.00000000e+00,   0.00000000e+00,   0.00000000e+00,\n",
       "          1.00000000e+00,   2.00000000e+00,   0.00000000e+00,\n",
       "          1.00000000e+00,   0.00000000e+00,   0.00000000e+00,\n",
       "          0.00000000e+00,   0.00000000e+00,   1.00000000e+00,\n",
       "          2.00000000e+00,   0.00000000e+00,   0.00000000e+00,\n",
       "          0.00000000e+00,   0.00000000e+00,   1.00000000e+00,\n",
       "          0.00000000e+00,   1.00000000e+00,   0.00000000e+00,\n",
       "          0.00000000e+00,   0.00000000e+00,   0.00000000e+00,\n",
       "          0.00000000e+00,   0.00000000e+00,   0.00000000e+00,\n",
       "          0.00000000e+00,   0.00000000e+00,   0.00000000e+00,\n",
       "          0.00000000e+00,   1.00000000e+00]),\n",
       " array([ 0.        ,  0.0011734 ,  0.00234679,  0.00352019,  0.00469358,\n",
       "         0.00586698,  0.00704037,  0.00821377,  0.00938716,  0.01056056,\n",
       "         0.01173395,  0.01290735,  0.01408074,  0.01525414,  0.01642753,\n",
       "         0.01760093,  0.01877432,  0.01994772,  0.02112111,  0.02229451,\n",
       "         0.0234679 ,  0.0246413 ,  0.02581469,  0.02698809,  0.02816149,\n",
       "         0.02933488,  0.03050828,  0.03168167,  0.03285507,  0.03402846,\n",
       "         0.03520186,  0.03637525,  0.03754865,  0.03872204,  0.03989544,\n",
       "         0.04106883,  0.04224223,  0.04341562,  0.04458902,  0.04576241,\n",
       "         0.04693581,  0.0481092 ,  0.0492826 ,  0.05045599,  0.05162939,\n",
       "         0.05280279,  0.05397618,  0.05514958,  0.05632297,  0.05749637,\n",
       "         0.05866976]),\n",
       " <a list of 50 Patch objects>)"
      ]
     },
     "execution_count": 22,
     "metadata": {},
     "output_type": "execute_result"
    },
    {
     "data": {
      "image/png": "[encoded data removed]",
      "text/plain": [
       "<matplotlib.figure.Figure at 0x7fbc78f612b0>"
      ]
     },
     "metadata": {},
     "output_type": "display_data"
    }
   ],
   "source": [
    "#normalisation TIC: calculate the sum of all peaks' intensities in a spectrum as the normalization factor and then all spectrum intensities \n",
    "#are divided by this value\n",
    "data_matrix_2_ = data_matrix_2.astype(np.float64)\n",
    "row_sums_2 = data_matrix_2_.sum(axis=1)\n",
    "data_matrix_2 = data_matrix_2_ / row_sums_2[:, np.newaxis]\n",
    "data_matrix_2.shape\n",
    "plt.hist(np.log10(1+data_matrix_2[:, bin_idx_2]), bins=50)"
   ]
  },
  {
   "cell_type": "code",
   "execution_count": 23,
   "metadata": {
    "collapsed": false
   },
   "outputs": [
    {
     "name": "stdout",
     "output_type": "stream",
     "text": [
      "9577 labels, 9577 real data points, 399 positives\n"
     ]
    },
    {
     "data": {
      "text/plain": [
       "<matplotlib.colorbar.Colorbar at 0x7fbb9d0cd470>"
      ]
     },
     "execution_count": 23,
     "metadata": {},
     "output_type": "execute_result"
    },
    {
     "data": {
      "image/png": "[encoded data removed]",
      "text/plain": [
       "<matplotlib.figure.Figure at 0x7fbb9d1d5208>"
      ]
     },
     "metadata": {},
     "output_type": "display_data"
    }
   ],
   "source": [
    "cutoff_1 = 0.005\n",
    "\n",
    "labels_1 = data_matrix_1[:, bin_idx_1] > cutoff_1\n",
    "print('%d labels, %d real data points, %d positives' % (len(labels_1), len(labels_1[real_rows_1]), sum(labels_1)))\n",
    "#plt.imshow(make_image(labels))\n",
    "#plt.imshow(make_image(labels[real_rows]))\n",
    "plt.imshow(make_image_real_1(labels_1[real_rows_1]))\n",
    "plt.imshow(mask_1, cmap='binary',alpha = 0.3)\n",
    "#plt.imshow(np.log10(1+bin_img),alpha = 0.5) # log10 changes the distribution so we can see what's going on better\n",
    "\n",
    "plt.colorbar()\n",
    "#python 3"
   ]
  },
  {
   "cell_type": "code",
   "execution_count": 24,
   "metadata": {
    "collapsed": false
   },
   "outputs": [
    {
     "name": "stdout",
     "output_type": "stream",
     "text": [
      "6869 labels, 6869 real data points, 89 positives\n"
     ]
    },
    {
     "data": {
      "text/plain": [
       "<matplotlib.colorbar.Colorbar at 0x7fbb9cf74198>"
      ]
     },
     "execution_count": 24,
     "metadata": {},
     "output_type": "execute_result"
    },
    {
     "data": {
      "image/png": "[encoded data removed]",
      "text/plain": [
       "<matplotlib.figure.Figure at 0x7fbbf8e62828>"
      ]
     },
     "metadata": {},
     "output_type": "display_data"
    }
   ],
   "source": [
    "cutoff_2 = 0.005\n",
    "\n",
    "labels_2 = data_matrix_2[:, bin_idx_2] > cutoff_2\n",
    "print('%d labels, %d real data points, %d positives' % (len(labels_2), len(labels_2[real_rows_2]), sum(labels_2)))\n",
    "#plt.imshow(make_image(labels))\n",
    "#plt.imshow(make_image(labels[real_rows]))\n",
    "plt.imshow(make_image_real_2(labels_2[real_rows_2]))\n",
    "plt.imshow(mask_2, cmap='binary',alpha = 0.3)\n",
    "#plt.imshow(np.log10(1+bin_img),alpha = 0.5) # log10 changes the distribution so we can see what's going on better\n",
    "\n",
    "plt.colorbar()\n",
    "#python 3"
   ]
  },
  {
   "cell_type": "code",
   "execution_count": 25,
   "metadata": {
    "collapsed": false
   },
   "outputs": [
    {
     "data": {
      "text/plain": [
       "(9577, 13999)"
      ]
     },
     "execution_count": 25,
     "metadata": {},
     "output_type": "execute_result"
    }
   ],
   "source": [
    "real_labels_1 = labels_1[real_rows_1]\n",
    "real_data_1 = data_matrix_1[real_rows_1, :]\n",
    "real_data_1 = real_data_1[:, np.arange(data_matrix_1.shape[1]) != bin_idx_1]\n",
    "real_data_1.shape"
   ]
  },
  {
   "cell_type": "code",
   "execution_count": 26,
   "metadata": {
    "collapsed": false
   },
   "outputs": [
    {
     "data": {
      "text/plain": [
       "(6869, 13999)"
      ]
     },
     "execution_count": 26,
     "metadata": {},
     "output_type": "execute_result"
    }
   ],
   "source": [
    "real_labels_2 = labels_2[real_rows_2]\n",
    "real_data_2 = data_matrix_2[real_rows_2, :]\n",
    "real_data_2 = real_data_2[:, np.arange(data_matrix_2.shape[1]) != bin_idx_2]\n",
    "real_data_2.shape"
   ]
  },
  {
   "cell_type": "code",
   "execution_count": 27,
   "metadata": {
    "collapsed": false
   },
   "outputs": [
    {
     "data": {
      "text/plain": [
       "2956"
      ]
     },
     "execution_count": 27,
     "metadata": {},
     "output_type": "execute_result"
    }
   ],
   "source": [
    "bin_idx_ = get_bin_1(5800)\n",
    "bin_idx_"
   ]
  },
  {
   "cell_type": "code",
   "execution_count": 28,
   "metadata": {
    "collapsed": false
   },
   "outputs": [
    {
     "data": {
      "text/plain": [
       "2956"
      ]
     },
     "execution_count": 28,
     "metadata": {},
     "output_type": "execute_result"
    }
   ],
   "source": [
    "bin_idx__ = get_bin_2(5800)\n",
    "bin_idx__"
   ]
  },
  {
   "cell_type": "code",
   "execution_count": 29,
   "metadata": {
    "collapsed": false
   },
   "outputs": [
    {
     "data": {
      "text/plain": [
       "(9577, 13980)"
      ]
     },
     "execution_count": 29,
     "metadata": {},
     "output_type": "execute_result"
    }
   ],
   "source": [
    "#filtering out m/z bins that are strongly correlated to your target bin (i.e., bins in the range 5790-5810)\n",
    "index_1 = np.arange(data_matrix_1.shape[1])[2946:2966]\n",
    "data_left_1 = np.delete(data_matrix_1[real_rows_1, :],index_1,1)\n",
    "data_left_1.shape"
   ]
  },
  {
   "cell_type": "code",
   "execution_count": 30,
   "metadata": {
    "collapsed": false
   },
   "outputs": [
    {
     "data": {
      "text/plain": [
       "array([2946, 2947, 2948, 2949, 2950, 2951, 2952, 2953, 2954, 2955, 2956,\n",
       "       2957, 2958, 2959, 2960, 2961, 2962, 2963, 2964, 2965])"
      ]
     },
     "execution_count": 30,
     "metadata": {},
     "output_type": "execute_result"
    }
   ],
   "source": [
    "index_1"
   ]
  },
  {
   "cell_type": "code",
   "execution_count": 31,
   "metadata": {
    "collapsed": false
   },
   "outputs": [
    {
     "data": {
      "text/plain": [
       "(6869, 13980)"
      ]
     },
     "execution_count": 31,
     "metadata": {},
     "output_type": "execute_result"
    }
   ],
   "source": [
    "#filtering out m/z bins that are strongly correlated to your target bin (i.e., bins in the range 5790-5810)\n",
    "index_2 = np.arange(data_matrix_2.shape[1])[2946:2966]\n",
    "data_left_2 = np.delete(data_matrix_2[real_rows_2, :],index_2,1)\n",
    "data_left_2.shape"
   ]
  },
  {
   "cell_type": "code",
   "execution_count": 32,
   "metadata": {
    "collapsed": false
   },
   "outputs": [
    {
     "data": {
      "text/plain": [
       "(9577,)"
      ]
     },
     "execution_count": 32,
     "metadata": {},
     "output_type": "execute_result"
    }
   ],
   "source": [
    "real_data_1 = data_left_1\n",
    "real_data_2 = data_left_2\n",
    "real_labels_1.shape"
   ]
  },
  {
   "cell_type": "code",
   "execution_count": 33,
   "metadata": {
    "collapsed": false
   },
   "outputs": [
    {
     "data": {
      "text/plain": [
       "(16446,)"
      ]
     },
     "execution_count": 33,
     "metadata": {},
     "output_type": "execute_result"
    }
   ],
   "source": [
    "real_labels = np.concatenate((real_labels_1, real_labels_2), axis=0)\n",
    "real_labels.shape"
   ]
  },
  {
   "cell_type": "code",
   "execution_count": 34,
   "metadata": {
    "collapsed": false
   },
   "outputs": [
    {
     "data": {
      "text/plain": [
       "(16446, 13980)"
      ]
     },
     "execution_count": 34,
     "metadata": {},
     "output_type": "execute_result"
    }
   ],
   "source": [
    "real_data = np.concatenate((real_data_1, real_data_2), axis=0)\n",
    "real_data.shape"
   ]
  },
  {
   "cell_type": "markdown",
   "metadata": {},
   "source": [
    "Preprocessing: peak picking"
   ]
  },
  {
   "cell_type": "code",
   "execution_count": 35,
   "metadata": {
    "collapsed": true
   },
   "outputs": [],
   "source": [
    "import numpy as np\n",
    "import matplotlib.pyplot as plt\n",
    "from mpl_toolkits.mplot3d import Axes3D\n",
    "from sklearn import decomposition\n",
    "from sklearn import datasets\n",
    "from sklearn.decomposition import PCA as sklearnPCA\n",
    "from sklearn import preprocessing"
   ]
  },
  {
   "cell_type": "code",
   "execution_count": 36,
   "metadata": {
    "collapsed": true
   },
   "outputs": [],
   "source": [
    "from sklearn.feature_selection import SelectKBest\n",
    "from sklearn.feature_selection import chi2"
   ]
  },
  {
   "cell_type": "code",
   "execution_count": 37,
   "metadata": {
    "collapsed": false
   },
   "outputs": [],
   "source": [
    "#peak-picking\n",
    "data_pp = SelectKBest(k=500).fit_transform(real_data, real_labels) # score function is f_classif\n",
    "#data_pp = SelectKBest(chi2,k=500).fit_transform(real_data, real_labels)"
   ]
  },
  {
   "cell_type": "code",
   "execution_count": 38,
   "metadata": {
    "collapsed": false
   },
   "outputs": [
    {
     "data": {
      "text/plain": [
       "(16446, 500)"
      ]
     },
     "execution_count": 38,
     "metadata": {},
     "output_type": "execute_result"
    }
   ],
   "source": [
    "data_pp.shape"
   ]
  },
  {
   "cell_type": "code",
   "execution_count": 39,
   "metadata": {
    "collapsed": false
   },
   "outputs": [
    {
     "data": {
      "text/plain": [
       "array([   0,    1,    2, ..., 9574, 9575, 9576])"
      ]
     },
     "execution_count": 39,
     "metadata": {},
     "output_type": "execute_result"
    }
   ],
   "source": [
    "index_1_ = np.arange(data_pp.shape[0])[0:9577]\n",
    "index_1_"
   ]
  },
  {
   "cell_type": "code",
   "execution_count": 40,
   "metadata": {
    "collapsed": false
   },
   "outputs": [
    {
     "data": {
      "text/plain": [
       "(9577, 500)"
      ]
     },
     "execution_count": 40,
     "metadata": {},
     "output_type": "execute_result"
    }
   ],
   "source": [
    "data_pp_1 = data_pp[index_1_,:]\n",
    "data_pp_1.shape"
   ]
  },
  {
   "cell_type": "code",
   "execution_count": 41,
   "metadata": {
    "collapsed": false
   },
   "outputs": [
    {
     "data": {
      "text/plain": [
       "(6869, 500)"
      ]
     },
     "execution_count": 41,
     "metadata": {},
     "output_type": "execute_result"
    }
   ],
   "source": [
    "index_2_ = np.arange(data_pp.shape[0])[9577:16447]\n",
    "data_pp_2 = data_pp[index_2_,:]\n",
    "data_pp_2.shape"
   ]
  },
  {
   "cell_type": "code",
   "execution_count": 42,
   "metadata": {
    "collapsed": false
   },
   "outputs": [
    {
     "data": {
      "text/plain": [
       "array([ 9577,  9578,  9579, ..., 16443, 16444, 16445])"
      ]
     },
     "execution_count": 42,
     "metadata": {},
     "output_type": "execute_result"
    }
   ],
   "source": [
    "index_2_"
   ]
  },
  {
   "cell_type": "code",
   "execution_count": 43,
   "metadata": {
    "collapsed": false
   },
   "outputs": [
    {
     "data": {
      "text/plain": [
       "(9577, 500)"
      ]
     },
     "execution_count": 43,
     "metadata": {},
     "output_type": "execute_result"
    }
   ],
   "source": [
    "minvals_1 = np.amin(data_pp_1, 0)\n",
    "maxvals_1 = np.amax(data_pp_1, 0)\n",
    "ranges_1 = 1.0 / (maxvals_1 - minvals_1)\n",
    "scaler_1 = np.diag(ranges_1)\n",
    "\n",
    "data_pp_scaled_1 = np.dot(data_pp_1, scaler_1)\n",
    "data_pp_scaled_1.shape"
   ]
  },
  {
   "cell_type": "code",
   "execution_count": 44,
   "metadata": {
    "collapsed": false
   },
   "outputs": [
    {
     "data": {
      "text/plain": [
       "(6869, 500)"
      ]
     },
     "execution_count": 44,
     "metadata": {},
     "output_type": "execute_result"
    }
   ],
   "source": [
    "minvals_2 = np.amin(data_pp_2, 0)\n",
    "maxvals_2 = np.amax(data_pp_2, 0)\n",
    "ranges_2 = 1.0 / (maxvals_2 - minvals_2)\n",
    "scaler_2 = np.diag(ranges_2)\n",
    "\n",
    "data_pp_scaled_2 = np.dot(data_pp_2, scaler_2)\n",
    "data_pp_scaled_2.shape"
   ]
  },
  {
   "cell_type": "markdown",
   "metadata": {},
   "source": [
    "SVM\n",
    "\n",
    "Code to run nested cross-validation experiment, which involves\n",
    "\n",
    "    outer cross-validation: 2 folds, returns list of (auc, predictions) per fold\n",
    "    inner cross-validation: tuning hyperparameters (using 2x3 fold cv)\n",
    "\n"
   ]
  },
  {
   "cell_type": "code",
   "execution_count": 45,
   "metadata": {
    "collapsed": true
   },
   "outputs": [],
   "source": [
    "from sklearn.svm import SVC, LinearSVC\n",
    "from sklearn import metrics\n",
    "import optunity\n",
    "import optunity.metrics\n",
    "import optunity.cross_validation"
   ]
  },
  {
   "cell_type": "code",
   "execution_count": 50,
   "metadata": {
    "collapsed": true
   },
   "outputs": [],
   "source": [
    "# extend data matrix to include spatial location of pixels in first 2 cols\n",
    "data_1 = np.hstack((real_rows_xy_1, data_pp_scaled_1))\n",
    "\n",
    "@optunity.cross_validated(x=data_1, y=real_labels_1, num_folds=2,\n",
    "                         aggregator=optunity.cross_validation.identity)\n",
    "def nested_cv(x_train, y_train, x_test, y_test):\n",
    "\n",
    "    # extract spatial location of pixels (first 2 cols)\n",
    "    x_train = x_train[:, 2:]\n",
    "    rows = x_test[:, 0]\n",
    "    cols = x_test[:, 1]\n",
    "    x_test = x_test[:, 2:]\n",
    "    \n",
    "    # inner cross-validation to estimate performance of a set of hyperparameters\n",
    "    @optunity.cross_validated(x=x_train, y=y_train, num_folds=3, num_iter=2)\n",
    "    def inner_cv(x_train, y_train, x_test, y_test, C):\n",
    "        model = LinearSVC(C=C).fit(x_train, y_train)\n",
    "        predictions = model.decision_function(x_test)\n",
    "        roc = optunity.metrics.roc_auc(y_test, predictions)\n",
    "        #print('auroc in xval: %1.3f' % roc)\n",
    "        return roc\n",
    "    \n",
    "    hpars, info, _ = optunity.maximize(inner_cv, num_evals=10, C=[0, 10], pmap=optunity.parallel.pmap)\n",
    "    print('')\n",
    "    print('Hyperparameters: ' + str(hpars))\n",
    "    print('Cross-validated AUROC after tuning: %1.3f' % info.optimum)\n",
    "    model = LinearSVC(**hpars).fit(x_train, y_train)\n",
    "    predictions = model.decision_function(x_test)\n",
    "    auc = optunity.metrics.roc_auc(y_test, predictions)\n",
    "    return (auc, np.vstack((rows, cols, predictions)),np.vstack((rows, cols, y_test)))"
   ]
  },
  {
   "cell_type": "markdown",
   "metadata": {},
   "source": [
    "Run nested cross-validation procedure and retain results"
   ]
  },
  {
   "cell_type": "code",
   "execution_count": 52,
   "metadata": {
    "collapsed": false
   },
   "outputs": [
    {
     "name": "stdout",
     "output_type": "stream",
     "text": [
      "\n",
      "Hyperparameters: {'C': 1.73828125}\n",
      "Cross-validated AUROC after tuning: 0.969\n",
      "\n",
      "Hyperparameters: {'C': 0.185546875}\n",
      "Cross-validated AUROC after tuning: 0.984\n",
      "\n",
      "Mean area under ROC curve in outer cross-validation: 0.978\n"
     ]
    }
   ],
   "source": [
    "res = nested_cv()\n",
    "mean_roc_auc = sum(map(op.itemgetter(0), res)) / len(res)\n",
    "print('')\n",
    "print('Mean area under ROC curve in outer cross-validation: %1.3f' % mean_roc_auc)"
   ]
  },
  {
   "cell_type": "code",
   "execution_count": 64,
   "metadata": {
    "collapsed": false
   },
   "outputs": [],
   "source": [
    "#C_svc * n_samples = 1 / alpha_sgd\n",
    "import numpy as np\n",
    "from sklearn import linear_model\n",
    "data_2 = np.hstack((real_rows_xy_2, data_pp_scaled_2))\n",
    "\n",
    "@optunity.cross_validated(x=data_2, y=real_labels_2, num_folds=2,\n",
    "                         aggregator=optunity.cross_validation.identity)\n",
    "def nested_cv_1(x_train, y_train, x_test, y_test):\n",
    "\n",
    "    # extract spatial location of pixels (first 2 cols)\n",
    "    x_train = x_train[:, 2:]\n",
    "    rows = x_test[:, 0]\n",
    "    cols = x_test[:, 1]\n",
    "    x_test = x_test[:, 2:]\n",
    "    \n",
    "    clf = linear_model.SGDClassifier(alpha = 0.0001)\n",
    "    clf.fit(x_train, y_train)\n",
    "    predictions = clf.decision_function(x_test)\n",
    "    auc = optunity.metrics.roc_auc(y_test, predictions)\n",
    "    return (auc, np.vstack((rows, cols, predictions)),np.vstack((rows, cols, y_test)))"
   ]
  },
  {
   "cell_type": "code",
   "execution_count": 65,
   "metadata": {
    "collapsed": false
   },
   "outputs": [
    {
     "name": "stdout",
     "output_type": "stream",
     "text": [
      "\n",
      "Mean area under ROC curve in outer cross-validation: 0.958\n"
     ]
    }
   ],
   "source": [
    "res_1 = nested_cv_1()\n",
    "mean_roc_auc_1 = sum(map(op.itemgetter(0), res_1)) / len(res_1)\n",
    "print('')\n",
    "print('Mean area under ROC curve in outer cross-validation: %1.3f' % mean_roc_auc_1)"
   ]
  },
  {
   "cell_type": "markdown",
   "metadata": {},
   "source": [
    "Construct matrix of (out-of-sample) predictions for each pixel."
   ]
  },
  {
   "cell_type": "code",
   "execution_count": 58,
   "metadata": {
    "collapsed": false
   },
   "outputs": [
    {
     "name": "stderr",
     "output_type": "stream",
     "text": [
      "/esat/bioidata/guests/wzhang/wanqiu/conda/lib/python3.6/site-packages/ipykernel/__main__.py:7: VisibleDeprecationWarning: using a non-integer number instead of an integer will result in an error in the future\n"
     ]
    }
   ],
   "source": [
    "predictions = np.hstack(map(op.itemgetter(1), res_1))\n",
    "prediction_matrix = np.zeros((nrows_2, ncols_2))\n",
    "for i in range(predictions.shape[1]):\n",
    "    row = predictions[0, i]\n",
    "    col = predictions[1, i]\n",
    "    val = predictions[2, i]\n",
    "    prediction_matrix[row, col] = val"
   ]
  },
  {
   "cell_type": "code",
   "execution_count": 57,
   "metadata": {
    "collapsed": false
   },
   "outputs": [
    {
     "name": "stderr",
     "output_type": "stream",
     "text": [
      "/esat/bioidata/guests/wzhang/wanqiu/conda/lib/python3.6/site-packages/ipykernel/__main__.py:7: VisibleDeprecationWarning: using a non-integer number instead of an integer will result in an error in the future\n"
     ]
    }
   ],
   "source": [
    "y_test = np.hstack(map(op.itemgetter(2), res_1))\n",
    "y_test_matrix = np.zeros((nrows_2, ncols_2))\n",
    "for i in range(y_test.shape[1]):\n",
    "    row = y_test[0, i]\n",
    "    col = y_test[1, i]\n",
    "    val = y_test[2, i]\n",
    "    y_test_matrix[row, col] = val"
   ]
  },
  {
   "cell_type": "code",
   "execution_count": 59,
   "metadata": {
    "collapsed": false
   },
   "outputs": [
    {
     "name": "stderr",
     "output_type": "stream",
     "text": [
      "/esat/bioidata/guests/wzhang/wanqiu/conda/lib/python3.6/site-packages/ipykernel/__main__.py:1: RuntimeWarning: divide by zero encountered in log10\n",
      "  if __name__ == '__main__':\n"
     ]
    },
    {
     "data": {
      "text/plain": [
       "<matplotlib.colorbar.Colorbar at 0x7fbdc48aabe0>"
      ]
     },
     "execution_count": 59,
     "metadata": {},
     "output_type": "execute_result"
    },
    {
     "data": {
      "image/png": "[encoded data removed]",
      "text/plain": [
       "<matplotlib.figure.Figure at 0x7fbdc49c69b0>"
      ]
     },
     "metadata": {},
     "output_type": "display_data"
    }
   ],
   "source": [
    "plt.imshow(np.log10(prediction_matrix - prediction_matrix[:].min()))\n",
    "#plt.imshow(prediction_matrix)\n",
    "#plt.imshow(prediction_matrix > 0) # default svm treshold\n",
    "plt.colorbar()"
   ]
  },
  {
   "cell_type": "code",
   "execution_count": 60,
   "metadata": {
    "collapsed": false
   },
   "outputs": [
    {
     "data": {
      "text/plain": [
       "<matplotlib.image.AxesImage at 0x7fbdc4854860>"
      ]
     },
     "execution_count": 60,
     "metadata": {},
     "output_type": "execute_result"
    },
    {
     "data": {
      "image/png": "[encoded data removed]",
      "text/plain": [
       "<matplotlib.figure.Figure at 0x7fbdc49d39e8>"
      ]
     },
     "metadata": {},
     "output_type": "display_data"
    }
   ],
   "source": [
    "plt.imshow(prediction_matrix > 0) # default svm threshold"
   ]
  },
  {
   "cell_type": "code",
   "execution_count": 61,
   "metadata": {
    "collapsed": false
   },
   "outputs": [
    {
     "data": {
      "text/plain": [
       "<matplotlib.image.AxesImage at 0x7fbdc476a4e0>"
      ]
     },
     "execution_count": 61,
     "metadata": {},
     "output_type": "execute_result"
    },
    {
     "data": {
      "image/png": "[encoded data removed]",
      "text/plain": [
       "<matplotlib.figure.Figure at 0x7fbdc4809358>"
      ]
     },
     "metadata": {},
     "output_type": "display_data"
    }
   ],
   "source": [
    "plt.imshow(y_test_matrix)"
   ]
  },
  {
   "cell_type": "code",
   "execution_count": 62,
   "metadata": {
    "collapsed": false
   },
   "outputs": [
    {
     "name": "stdout",
     "output_type": "stream",
     "text": [
      "26 False_Positive, 59 False_Negative\n"
     ]
    },
    {
     "data": {
      "image/png": "[encoded data removed]",
      "text/plain": [
       "<matplotlib.figure.Figure at 0x7fbc78f28828>"
      ]
     },
     "metadata": {},
     "output_type": "display_data"
    }
   ],
   "source": [
    "y_predict = prediction_matrix > 0\n",
    "\n",
    "plt.imshow(y_test_matrix - y_predict)\n",
    "\n",
    "#plt.imshow(np.log10(1+bin_img_2),alpha = 0.4)\n",
    "plt.colorbar()\n",
    "False_Negative = (y_test_matrix - y_predict) > 0\n",
    "False_Positive = (y_test_matrix- y_predict) < 0\n",
    "print('%d False_Positive, %d False_Negative' % (np.sum(False_Positive), np.sum(False_Negative)))\n",
    "# yellow dots are False Negative, bule dots are False Positive"
   ]
  },
  {
   "cell_type": "code",
   "execution_count": 87,
   "metadata": {
    "collapsed": false
   },
   "outputs": [
    {
     "data": {
      "text/plain": [
       "<matplotlib.colorbar.Colorbar at 0x7fbaf1052cf8>"
      ]
     },
     "execution_count": 87,
     "metadata": {},
     "output_type": "execute_result"
    },
    {
     "data": {
      "image/png": "[encoded data removed]",
      "text/plain": [
       "<matplotlib.figure.Figure at 0x7fbaf1167b38>"
      ]
     },
     "metadata": {},
     "output_type": "display_data"
    }
   ],
   "source": [
    "plt.imshow(y_test_matrix - y_predict)\n",
    "plt.imshow(make_image_real_2(labels_2[real_rows_2]),alpha = 0.4)\n",
    "plt.imshow(mask_2, cmap='binary',alpha = 0.1)\n",
    "plt.colorbar()\n",
    "# Green dots are labeled part,yellow dots are False Negative, bule dots are False Positive"
   ]
  },
  {
   "cell_type": "code",
   "execution_count": null,
   "metadata": {
    "collapsed": true
   },
   "outputs": [],
   "source": []
  }
 ],
 "metadata": {
  "kernelspec": {
   "display_name": "Python 3",
   "language": "python",
   "name": "python3"
  },
  "language_info": {
   "codemirror_mode": {
    "name": "ipython",
    "version": 3
   },
   "file_extension": ".py",
   "mimetype": "text/x-python",
   "name": "python",
   "nbconvert_exporter": "python",
   "pygments_lexer": "ipython3",
   "version": "3.6.0"
  }
 },
 "nbformat": 4,
 "nbformat_minor": 2
}
